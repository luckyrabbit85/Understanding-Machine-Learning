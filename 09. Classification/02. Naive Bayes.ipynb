{
 "cells": [
  {
   "cell_type": "markdown",
   "id": "70f53722",
   "metadata": {},
   "source": [
    "# Naive Bayes Explained\n",
    "\n",
    "Suppose we want to classify our messages into Normal and Spam Using Naive Bayes Classifier. This is how we do it, step by step.\n",
    "\n",
    "1. First thing to do is collect all the unique words in the messages.\n",
    "2. Then have a count of each word in Normal messages and Spam messages.\n",
    "3. If a word is not present in one of the classes (spam or normal), then there is a problem, because the probabilty becomes zero. To eliminate that we add $\\alpha$ to all the counts.\n",
    "4. Now calculate probabily of each word to be seen in Normal message or Spam i.e. $P(word|Normal)$ and $P(word|Spam)$.\n",
    "5. Determine the $P(Normal)$ probabilty of Normal message and $P(Spam)$ probabilty of Spam. This can be done by counting the Normal and Spam messages in training data.\n",
    "\n",
    "Now say a new message is arrived with words *Dear Friend*, To classify it as spam or not we calculate the probabilities like this\n",
    "\n",
    "$$P(Normal|Dear Friend) \\propto P(Normal)*P(Dear|Normal)*P(Friend|Normal)$$\n",
    "\n",
    "$$P(Spam|Dear Friend) \\propto P(Spam)*P(Dear|Spam)*P(Friend|Spam)$$"
   ]
  },
  {
   "cell_type": "markdown",
   "id": "e49ebb8f",
   "metadata": {},
   "source": [
    "### Bayes Theorem\n",
    "\n",
    "$$P(\\frac{A}{B}) = P(\\frac{B}/A)P(A) / P(B)$$\n",
    "\n",
    "### Why Naive Bayes is Naive?\n",
    "\n",
    "Naive Bayes (NB) is 'naive' because it makes the assumption that features of a measurement are independent of each other. This is naive because it is (almost) never true.\n",
    "\n",
    "The great thing about NB is that the naive assumption actually tends to help the classification. Think of it this way: if two features are actually dependent, say, hair length and gender, then assuming they are independent means you get to double-count evidence."
   ]
  },
  {
   "cell_type": "code",
   "execution_count": null,
   "id": "5aab7349",
   "metadata": {},
   "outputs": [],
   "source": []
  }
 ],
 "metadata": {
  "kernelspec": {
   "display_name": "Python 3",
   "language": "python",
   "name": "python3"
  },
  "language_info": {
   "codemirror_mode": {
    "name": "ipython",
    "version": 3
   },
   "file_extension": ".py",
   "mimetype": "text/x-python",
   "name": "python",
   "nbconvert_exporter": "python",
   "pygments_lexer": "ipython3",
   "version": "3.8.8"
  }
 },
 "nbformat": 4,
 "nbformat_minor": 5
}
