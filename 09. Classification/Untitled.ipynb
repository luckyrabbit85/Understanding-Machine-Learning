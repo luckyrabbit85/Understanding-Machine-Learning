{
 "cells": [
  {
   "cell_type": "markdown",
   "id": "7156bd92",
   "metadata": {},
   "source": [
    "# Support Vector Machines\n",
    "\n",
    "A support vector machine is a very important and versatile machine learning algorithm, it is capable of doing linear and nonlinear classification, regression and outlier detection. It is preferred over other classification algorithms because it uses less computation and gives notable accuracy. It is good because it gives reliable results even if there is less data and high dimensions.\n",
    "\n",
    "### Linearly seperable data (support vector classifier)\n",
    "\n",
    "\n",
    "### Non Linearly seperable data (support vector machines)\n",
    "\n",
    "Hard Margin and Soft Margin\n",
    "\n",
    "kernel functions systematicaaly find support vector classifiers in higher dimentions"
   ]
  },
  {
   "cell_type": "code",
   "execution_count": null,
   "id": "7176769a",
   "metadata": {},
   "outputs": [],
   "source": []
  }
 ],
 "metadata": {
  "kernelspec": {
   "display_name": "Python 3",
   "language": "python",
   "name": "python3"
  },
  "language_info": {
   "codemirror_mode": {
    "name": "ipython",
    "version": 3
   },
   "file_extension": ".py",
   "mimetype": "text/x-python",
   "name": "python",
   "nbconvert_exporter": "python",
   "pygments_lexer": "ipython3",
   "version": "3.8.8"
  }
 },
 "nbformat": 4,
 "nbformat_minor": 5
}
