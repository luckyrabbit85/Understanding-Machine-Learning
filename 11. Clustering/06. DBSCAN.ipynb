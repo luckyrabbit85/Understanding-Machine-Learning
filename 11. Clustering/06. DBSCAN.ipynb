{
 "cells": [
  {
   "cell_type": "markdown",
   "id": "b3e0bfb0",
   "metadata": {},
   "source": [
    "# DBSCAN\n",
    "\n",
    "The density-based spatial clustering of applications with noise (DBSCAN) algorithm groups together points that are close to each other (with many neighbors) and marks those points that are further away with no close neighbors as outliers.\n",
    "According to this, and as its name states, the algorithm classifies data points based on the density of all data points in the data space. Understanding the DBSCAN algorithm requires two main parameters:\n",
    "\n",
    "- epsilon and \n",
    "- the minimum number of observations.\n",
    "\n",
    "Epsilon, also known as eps, is the maximum distance that defines the radius within which the algorithm searches for neighbors. The minimum number of observations, on the other hand, refers to the number of data points required to form a high-density area (min_samples). However, the latter is optional in scikitlearn as the default value is set to 5:\n",
    "\n",
    "+ **A core point**: A point that has at least the minimum number of data points within its eps radius.\n",
    "+ **A border point**: A point that is within the eps radius of a core point, but does not have the required number of data points within its own radius.\n",
    "+ **A noise point:** All points that do not meet the preceding descriptions.\n",
    "\n",
    "Algorithmic steps for DBSCAN clustering\n",
    "\n",
    "+ Initially, it starts with a random unvisited starting data point. All points within a distance $\\epsilon$ classify as neighborhood points.\n",
    "+ It needs a minimum number of 'minPts' points within the neighborhood to start the clustering process. Otherwise, the point gets labeled as 'Noise.'\n",
    "+ All points within the distance $\\epsilon$ become part of the same cluster. Repeat the procedure for all the new points added to the cluster group. Continue till it visits and labels each point within the $\\epsilon$ neighborhood of the cluster.\n",
    "\n",
    "On completion of the process, it starts again with a new unvisited point thereby leading to the discovery of more clusters or noise. At the end of the process, you ensure that you mark each point as either cluster or noise."
   ]
  },
  {
   "cell_type": "markdown",
   "id": "007ed143",
   "metadata": {},
   "source": [
    "### Why DBSCAN when we have simpler algorithms as k-means?\n",
    "\n",
    "K-means algorithms have tendency to form spherical clusters only. It fails when data is not spherical in nature i.e. equally variant in all directions. Along with that K-means is sensitive to outliers, so basically a slight change in data points might affect the clustering outcome. Also, DBSCAN detects the number of clusters on it's own, no prior knowledge is necessary. Whereas that is not the case K-means, we need to decide the number of clusters $k$ prior to the modelling."
   ]
  },
  {
   "cell_type": "code",
   "execution_count": null,
   "id": "b7df9fa6",
   "metadata": {},
   "outputs": [],
   "source": []
  }
 ],
 "metadata": {
  "kernelspec": {
   "display_name": "Python 3",
   "language": "python",
   "name": "python3"
  },
  "language_info": {
   "codemirror_mode": {
    "name": "ipython",
    "version": 3
   },
   "file_extension": ".py",
   "mimetype": "text/x-python",
   "name": "python",
   "nbconvert_exporter": "python",
   "pygments_lexer": "ipython3",
   "version": "3.8.8"
  }
 },
 "nbformat": 4,
 "nbformat_minor": 5
}
