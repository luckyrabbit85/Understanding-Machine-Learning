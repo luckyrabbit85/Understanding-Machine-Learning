{
 "cells": [
  {
   "cell_type": "markdown",
   "id": "cf72209b",
   "metadata": {},
   "source": [
    "# Mean Shift\n",
    "\n",
    "The mean-shift algorithm works by assigning each data point a cluster based on the density of the data points in the data space, also known as the mode in a distribution function. Contrary to the k-means algorithm, the mean-shift algorithm does not require you to specify the number of clusters as a parameter. The algorithm works by modeling the data points as a distribution function, where high-density areas (high concentration of data points) represent high peaks. Then, the general idea is to shift each data point until it reaches its nearest peak, which becomes a cluster.\n",
    "\n",
    "The first step of the mean-shift algorithm is to represent the data points as a density distribution. To do so, the algorithm builds upon the idea of **Kernel Density Estimation (KDE)**, which is a method that's used to estimate the distribution of a set of data:\n",
    "\n",
    "![](./fig/meanshift.png)\n",
    "\n",
    "In the preceding diagram, the dots at the bottom of the shape represent the data points that the user inputs, while the cone-shaped lines represent the estimated distribution of the data points. The peaks (high-density areas) will be the clusters.\n",
    "\n",
    "The process of assigning data points to each cluster is as follows:\n",
    "\n",
    "1. A window of a specified size (bandwidth) is drawn around each data point.\n",
    "2. The mean of the data inside the window is computed.\n",
    "3. The center of the window is shifted to the mean.\n",
    "\n",
    "Steps 2 and 3 are repeated until the data point reaches a peak, which will determine the cluster that it belongs to. The bandwidth value should be coherent with the distribution of the data points in the dataset. For example, for a dataset normalized between 0 and 1, the bandwidth value should be within that range, while for a dataset with all values between 1,000\n",
    "and 2,000, it would make more sense to have a bandwidth between 100 and 500.\n"
   ]
  },
  {
   "cell_type": "code",
   "execution_count": null,
   "id": "c8584d6c",
   "metadata": {},
   "outputs": [],
   "source": []
  }
 ],
 "metadata": {
  "kernelspec": {
   "display_name": "Python 3",
   "language": "python",
   "name": "python3"
  },
  "language_info": {
   "codemirror_mode": {
    "name": "ipython",
    "version": 3
   },
   "file_extension": ".py",
   "mimetype": "text/x-python",
   "name": "python",
   "nbconvert_exporter": "python",
   "pygments_lexer": "ipython3",
   "version": "3.8.8"
  }
 },
 "nbformat": 4,
 "nbformat_minor": 5
}
