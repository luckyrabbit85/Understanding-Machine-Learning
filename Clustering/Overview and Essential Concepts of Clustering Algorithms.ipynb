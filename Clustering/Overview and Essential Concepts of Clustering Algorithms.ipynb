{
 "cells": [
  {
   "cell_type": "markdown",
   "id": "7eae478d",
   "metadata": {},
   "source": [
    "# Overview and Essential Concepts of Clustering Algorithms"
   ]
  },
  {
   "cell_type": "markdown",
   "id": "3886efbd",
   "metadata": {},
   "source": [
    "**Clustering** is type of Unsupervised learning technique where the objective is to arrive at conclusions based on patterns found within the unlabelled data. This technique is mainly used to seggregate large data into subgroups in order to make informed decisions. Clustering algorithms divides data into $n$ different cluesters in such a way that each cluster have similar features, whereas they differ significantly from the data points in other clusters.\n",
    "\n",
    "### Clustering types"
   ]
  },
  {
   "cell_type": "markdown",
   "id": "1e03ade9",
   "metadata": {},
   "source": []
  },
  {
   "cell_type": "code",
   "execution_count": null,
   "id": "99f8667a",
   "metadata": {},
   "outputs": [],
   "source": []
  },
  {
   "cell_type": "code",
   "execution_count": null,
   "id": "6b9c9384",
   "metadata": {},
   "outputs": [],
   "source": []
  },
  {
   "cell_type": "code",
   "execution_count": null,
   "id": "f20742fa",
   "metadata": {},
   "outputs": [],
   "source": []
  },
  {
   "cell_type": "code",
   "execution_count": null,
   "id": "8e825e75",
   "metadata": {},
   "outputs": [],
   "source": []
  },
  {
   "cell_type": "code",
   "execution_count": null,
   "id": "c768c907",
   "metadata": {},
   "outputs": [],
   "source": []
  },
  {
   "cell_type": "markdown",
   "id": "ca14a6f4",
   "metadata": {},
   "source": [
    "# Distance metrics\n",
    "\n",
    "Similarity calculation in the KNN algorithm\n",
    "As we have just seen in the pseudocode above, KNN needs a function to calculate the distance between two observations. The closer two points are to each other, the more similar they are, and vice versa.\n",
    "There are several distance calculation functions, like the following:\n",
    "Euclidean distance\n",
    "Taxicab geometry\n",
    "Minkowski distance\n",
    "Jaccard index\n",
    "Hamming distance\n",
    "We choose the distance function according to the types of data we’re handling. So for quantitative data (example: weight, wages, size, shopping cart amount, etc.) of the same type, Euclidean distance is a good candidate. Taxicab geometry is a good measure to use when the data (input variables) are not of the same type (example: age, sex, length, weight, etc.).\n",
    "It can be a great algorithmic exercise to try to code them from scratch, but there are plenty of implementations available, and many libraries in Python, Swift, and Java that offer ML libraries that perform these calculations internally. You just have to indicate the distance measure you want to use."
   ]
  },
  {
   "cell_type": "markdown",
   "id": "0103e7a4",
   "metadata": {},
   "source": [
    "# Curse of dimentionality"
   ]
  },
  {
   "cell_type": "markdown",
   "id": "4317ad0c",
   "metadata": {},
   "source": [
    "# Feature Scaling"
   ]
  },
  {
   "cell_type": "code",
   "execution_count": null,
   "id": "00a02bb9",
   "metadata": {},
   "outputs": [],
   "source": []
  }
 ],
 "metadata": {
  "kernelspec": {
   "display_name": "Python 3",
   "language": "python",
   "name": "python3"
  },
  "language_info": {
   "codemirror_mode": {
    "name": "ipython",
    "version": 3
   },
   "file_extension": ".py",
   "mimetype": "text/x-python",
   "name": "python",
   "nbconvert_exporter": "python",
   "pygments_lexer": "ipython3",
   "version": "3.8.8"
  }
 },
 "nbformat": 4,
 "nbformat_minor": 5
}
